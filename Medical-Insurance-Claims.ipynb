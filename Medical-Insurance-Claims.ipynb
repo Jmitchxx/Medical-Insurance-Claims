{
 "cells": [
  {
   "cell_type": "code",
   "execution_count": 2,
   "id": "c1691a66",
   "metadata": {},
   "outputs": [],
   "source": [
    "import numpy as np\n",
    "import pandas as pd\n",
    "\n",
    "import matplotlib.pyplot as plt\n",
    "import seaborn as sns"
   ]
  },
  {
   "cell_type": "code",
   "execution_count": 3,
   "id": "cfac9f97",
   "metadata": {},
   "outputs": [
    {
     "name": "stdout",
     "output_type": "stream",
     "text": [
      "(1338, 7)\n"
     ]
    },
    {
     "data": {
      "text/html": [
       "<div>\n",
       "<style scoped>\n",
       "    .dataframe tbody tr th:only-of-type {\n",
       "        vertical-align: middle;\n",
       "    }\n",
       "\n",
       "    .dataframe tbody tr th {\n",
       "        vertical-align: top;\n",
       "    }\n",
       "\n",
       "    .dataframe thead th {\n",
       "        text-align: right;\n",
       "    }\n",
       "</style>\n",
       "<table border=\"1\" class=\"dataframe\">\n",
       "  <thead>\n",
       "    <tr style=\"text-align: right;\">\n",
       "      <th></th>\n",
       "      <th>age</th>\n",
       "      <th>sex</th>\n",
       "      <th>bmi</th>\n",
       "      <th>children</th>\n",
       "      <th>smoker</th>\n",
       "      <th>region</th>\n",
       "      <th>charges</th>\n",
       "    </tr>\n",
       "  </thead>\n",
       "  <tbody>\n",
       "    <tr>\n",
       "      <th>0</th>\n",
       "      <td>19</td>\n",
       "      <td>female</td>\n",
       "      <td>27.900</td>\n",
       "      <td>0</td>\n",
       "      <td>yes</td>\n",
       "      <td>southwest</td>\n",
       "      <td>16884.92400</td>\n",
       "    </tr>\n",
       "    <tr>\n",
       "      <th>1</th>\n",
       "      <td>18</td>\n",
       "      <td>male</td>\n",
       "      <td>33.770</td>\n",
       "      <td>1</td>\n",
       "      <td>no</td>\n",
       "      <td>southeast</td>\n",
       "      <td>1725.55230</td>\n",
       "    </tr>\n",
       "    <tr>\n",
       "      <th>2</th>\n",
       "      <td>28</td>\n",
       "      <td>male</td>\n",
       "      <td>33.000</td>\n",
       "      <td>3</td>\n",
       "      <td>no</td>\n",
       "      <td>southeast</td>\n",
       "      <td>4449.46200</td>\n",
       "    </tr>\n",
       "    <tr>\n",
       "      <th>3</th>\n",
       "      <td>33</td>\n",
       "      <td>male</td>\n",
       "      <td>22.705</td>\n",
       "      <td>0</td>\n",
       "      <td>no</td>\n",
       "      <td>northwest</td>\n",
       "      <td>21984.47061</td>\n",
       "    </tr>\n",
       "    <tr>\n",
       "      <th>4</th>\n",
       "      <td>32</td>\n",
       "      <td>male</td>\n",
       "      <td>28.880</td>\n",
       "      <td>0</td>\n",
       "      <td>no</td>\n",
       "      <td>northwest</td>\n",
       "      <td>3866.85520</td>\n",
       "    </tr>\n",
       "  </tbody>\n",
       "</table>\n",
       "</div>"
      ],
      "text/plain": [
       "   age     sex     bmi  children smoker     region      charges\n",
       "0   19  female  27.900         0    yes  southwest  16884.92400\n",
       "1   18    male  33.770         1     no  southeast   1725.55230\n",
       "2   28    male  33.000         3     no  southeast   4449.46200\n",
       "3   33    male  22.705         0     no  northwest  21984.47061\n",
       "4   32    male  28.880         0     no  northwest   3866.85520"
      ]
     },
     "execution_count": 3,
     "metadata": {},
     "output_type": "execute_result"
    }
   ],
   "source": [
    "data = pd.read_csv('/Users/macbookpro/Downloads/Insurance.csv')\n",
    "\n",
    "print(data.shape)\n",
    "\n",
    "data.head()"
   ]
  },
  {
   "cell_type": "code",
   "execution_count": 4,
   "id": "f653b80b",
   "metadata": {},
   "outputs": [
    {
     "name": "stdout",
     "output_type": "stream",
     "text": [
      "<class 'pandas.core.frame.DataFrame'>\n",
      "RangeIndex: 1338 entries, 0 to 1337\n",
      "Data columns (total 7 columns):\n",
      " #   Column    Non-Null Count  Dtype  \n",
      "---  ------    --------------  -----  \n",
      " 0   age       1338 non-null   int64  \n",
      " 1   sex       1338 non-null   object \n",
      " 2   bmi       1338 non-null   float64\n",
      " 3   children  1338 non-null   int64  \n",
      " 4   smoker    1338 non-null   object \n",
      " 5   region    1338 non-null   object \n",
      " 6   charges   1338 non-null   float64\n",
      "dtypes: float64(2), int64(2), object(3)\n",
      "memory usage: 73.3+ KB\n"
     ]
    }
   ],
   "source": [
    "data.info()"
   ]
  },
  {
   "cell_type": "code",
   "execution_count": 5,
   "id": "d5bcd5ed",
   "metadata": {},
   "outputs": [
    {
     "data": {
      "text/html": [
       "<div>\n",
       "<style scoped>\n",
       "    .dataframe tbody tr th:only-of-type {\n",
       "        vertical-align: middle;\n",
       "    }\n",
       "\n",
       "    .dataframe tbody tr th {\n",
       "        vertical-align: top;\n",
       "    }\n",
       "\n",
       "    .dataframe thead th {\n",
       "        text-align: right;\n",
       "    }\n",
       "</style>\n",
       "<table border=\"1\" class=\"dataframe\">\n",
       "  <thead>\n",
       "    <tr style=\"text-align: right;\">\n",
       "      <th></th>\n",
       "      <th>age</th>\n",
       "      <th>bmi</th>\n",
       "      <th>children</th>\n",
       "      <th>charges</th>\n",
       "    </tr>\n",
       "  </thead>\n",
       "  <tbody>\n",
       "    <tr>\n",
       "      <th>count</th>\n",
       "      <td>1338.000000</td>\n",
       "      <td>1338.000000</td>\n",
       "      <td>1338.000000</td>\n",
       "      <td>1338.000000</td>\n",
       "    </tr>\n",
       "    <tr>\n",
       "      <th>mean</th>\n",
       "      <td>39.207025</td>\n",
       "      <td>30.663397</td>\n",
       "      <td>1.094918</td>\n",
       "      <td>13270.422265</td>\n",
       "    </tr>\n",
       "    <tr>\n",
       "      <th>std</th>\n",
       "      <td>14.049960</td>\n",
       "      <td>6.098187</td>\n",
       "      <td>1.205493</td>\n",
       "      <td>12110.011237</td>\n",
       "    </tr>\n",
       "    <tr>\n",
       "      <th>min</th>\n",
       "      <td>18.000000</td>\n",
       "      <td>15.960000</td>\n",
       "      <td>0.000000</td>\n",
       "      <td>1121.873900</td>\n",
       "    </tr>\n",
       "    <tr>\n",
       "      <th>25%</th>\n",
       "      <td>27.000000</td>\n",
       "      <td>26.296250</td>\n",
       "      <td>0.000000</td>\n",
       "      <td>4740.287150</td>\n",
       "    </tr>\n",
       "    <tr>\n",
       "      <th>50%</th>\n",
       "      <td>39.000000</td>\n",
       "      <td>30.400000</td>\n",
       "      <td>1.000000</td>\n",
       "      <td>9382.033000</td>\n",
       "    </tr>\n",
       "    <tr>\n",
       "      <th>75%</th>\n",
       "      <td>51.000000</td>\n",
       "      <td>34.693750</td>\n",
       "      <td>2.000000</td>\n",
       "      <td>16639.912515</td>\n",
       "    </tr>\n",
       "    <tr>\n",
       "      <th>max</th>\n",
       "      <td>64.000000</td>\n",
       "      <td>53.130000</td>\n",
       "      <td>5.000000</td>\n",
       "      <td>63770.428010</td>\n",
       "    </tr>\n",
       "  </tbody>\n",
       "</table>\n",
       "</div>"
      ],
      "text/plain": [
       "               age          bmi     children       charges\n",
       "count  1338.000000  1338.000000  1338.000000   1338.000000\n",
       "mean     39.207025    30.663397     1.094918  13270.422265\n",
       "std      14.049960     6.098187     1.205493  12110.011237\n",
       "min      18.000000    15.960000     0.000000   1121.873900\n",
       "25%      27.000000    26.296250     0.000000   4740.287150\n",
       "50%      39.000000    30.400000     1.000000   9382.033000\n",
       "75%      51.000000    34.693750     2.000000  16639.912515\n",
       "max      64.000000    53.130000     5.000000  63770.428010"
      ]
     },
     "execution_count": 5,
     "metadata": {},
     "output_type": "execute_result"
    }
   ],
   "source": [
    "data.describe()"
   ]
  },
  {
   "cell_type": "code",
   "execution_count": 6,
   "id": "3a324786",
   "metadata": {},
   "outputs": [
    {
     "data": {
      "text/plain": [
       "age         0\n",
       "sex         0\n",
       "bmi         0\n",
       "children    0\n",
       "smoker      0\n",
       "region      0\n",
       "charges     0\n",
       "dtype: int64"
      ]
     },
     "execution_count": 6,
     "metadata": {},
     "output_type": "execute_result"
    }
   ],
   "source": [
    "data.isnull().sum()"
   ]
  },
  {
   "cell_type": "code",
   "execution_count": 7,
   "id": "8028f8dd",
   "metadata": {},
   "outputs": [
    {
     "data": {
      "text/plain": [
       "male      676\n",
       "female    662\n",
       "Name: sex, dtype: int64"
      ]
     },
     "execution_count": 7,
     "metadata": {},
     "output_type": "execute_result"
    }
   ],
   "source": [
    "data['sex'].value_counts()\n"
   ]
  },
  {
   "cell_type": "code",
   "execution_count": 8,
   "id": "df92a2c0",
   "metadata": {},
   "outputs": [
    {
     "data": {
      "text/plain": [
       "18    69\n",
       "19    68\n",
       "50    29\n",
       "51    29\n",
       "47    29\n",
       "46    29\n",
       "45    29\n",
       "20    29\n",
       "48    29\n",
       "52    29\n",
       "22    28\n",
       "49    28\n",
       "54    28\n",
       "53    28\n",
       "21    28\n",
       "26    28\n",
       "24    28\n",
       "25    28\n",
       "28    28\n",
       "27    28\n",
       "23    28\n",
       "43    27\n",
       "29    27\n",
       "30    27\n",
       "41    27\n",
       "42    27\n",
       "44    27\n",
       "31    27\n",
       "40    27\n",
       "32    26\n",
       "33    26\n",
       "56    26\n",
       "34    26\n",
       "55    26\n",
       "57    26\n",
       "37    25\n",
       "59    25\n",
       "58    25\n",
       "36    25\n",
       "38    25\n",
       "35    25\n",
       "39    25\n",
       "61    23\n",
       "60    23\n",
       "63    23\n",
       "62    23\n",
       "64    22\n",
       "Name: age, dtype: int64"
      ]
     },
     "execution_count": 8,
     "metadata": {},
     "output_type": "execute_result"
    }
   ],
   "source": [
    "data['age'].value_counts()"
   ]
  },
  {
   "cell_type": "code",
   "execution_count": 9,
   "id": "d4a4f8da",
   "metadata": {},
   "outputs": [
    {
     "data": {
      "text/plain": [
       "0    574\n",
       "1    324\n",
       "2    240\n",
       "3    157\n",
       "4     25\n",
       "5     18\n",
       "Name: children, dtype: int64"
      ]
     },
     "execution_count": 9,
     "metadata": {},
     "output_type": "execute_result"
    }
   ],
   "source": [
    "data['children'].value_counts()"
   ]
  },
  {
   "cell_type": "code",
   "execution_count": 10,
   "id": "a9a8ddf2",
   "metadata": {},
   "outputs": [
    {
     "data": {
      "text/plain": [
       "no     1064\n",
       "yes     274\n",
       "Name: smoker, dtype: int64"
      ]
     },
     "execution_count": 10,
     "metadata": {},
     "output_type": "execute_result"
    }
   ],
   "source": [
    "data['smoker'].value_counts()"
   ]
  },
  {
   "cell_type": "code",
   "execution_count": 11,
   "id": "938646fe",
   "metadata": {},
   "outputs": [
    {
     "data": {
      "text/plain": [
       "southeast    364\n",
       "southwest    325\n",
       "northwest    325\n",
       "northeast    324\n",
       "Name: region, dtype: int64"
      ]
     },
     "execution_count": 11,
     "metadata": {},
     "output_type": "execute_result"
    }
   ],
   "source": [
    "data['region'].value_counts()\n"
   ]
  },
  {
   "cell_type": "code",
   "execution_count": 12,
   "id": "de88c6e9",
   "metadata": {},
   "outputs": [
    {
     "data": {
      "text/plain": [
       "Index(['age', 'sex', 'bmi', 'children', 'smoker', 'region', 'charges'], dtype='object')"
      ]
     },
     "execution_count": 12,
     "metadata": {},
     "output_type": "execute_result"
    }
   ],
   "source": [
    "data.columns"
   ]
  },
  {
   "cell_type": "code",
   "execution_count": 13,
   "id": "2c3d9d66",
   "metadata": {},
   "outputs": [
    {
     "data": {
      "text/plain": [
       "Text(0.5, 1.0, 'Age vs Charges')"
      ]
     },
     "execution_count": 13,
     "metadata": {},
     "output_type": "execute_result"
    },
    {
     "data": {
      "image/png": "[encoded data removed]",
      "text/plain": [
       "<Figure size 864x576 with 1 Axes>"
      ]
     },
     "metadata": {
      "needs_background": "light"
     },
     "output_type": "display_data"
    }
   ],
   "source": [
    "# Age vs Charges\n",
    "# the more the age the more will be insurance charge (roughly estimated)\n",
    "\n",
    "plt.figure(figsize = (12, 8))\n",
    "sns.barplot(x = 'age', y = 'charges', data = data)\n",
    "\n",
    "plt.title(\"Age vs Charges\")"
   ]
  },
  {
   "cell_type": "code",
   "execution_count": 14,
   "id": "9ea48326",
   "metadata": {},
   "outputs": [
    {
     "data": {
      "text/plain": [
       "Text(0.5, 1.0, 'sex vs charges')"
      ]
     },
     "execution_count": 14,
     "metadata": {},
     "output_type": "execute_result"
    },
    {
     "data": {
      "image/png": "[encoded data removed]",
      "text/plain": [
       "<Figure size 432x432 with 1 Axes>"
      ]
     },
     "metadata": {
      "needs_background": "light"
     },
     "output_type": "display_data"
    }
   ],
   "source": [
    "# sex vs charges\n",
    "# males have slightly greater insurance charges than females in general\n",
    "\n",
    "plt.figure(figsize = (6, 6))\n",
    "sns.barplot(x = 'sex', y = 'charges', data = data)\n",
    "\n",
    "plt.title('sex vs charges')"
   ]
  },
  {
   "cell_type": "code",
   "execution_count": 15,
   "id": "c3c6e30f",
   "metadata": {},
   "outputs": [
    {
     "data": {
      "text/plain": [
       "Text(0.5, 1.0, 'children vs charges')"
      ]
     },
     "execution_count": 15,
     "metadata": {},
     "output_type": "execute_result"
    },
    {
     "data": {
      "image/png": "[encoded data removed]",
      "text/plain": [
       "<Figure size 864x576 with 1 Axes>"
      ]
     },
     "metadata": {
      "needs_background": "light"
     },
     "output_type": "display_data"
    }
   ],
   "source": [
    "# children vs charges\n",
    "# no. of childrens of a person has a very interesting dependency on insurance costs\n",
    "\n",
    "plt.figure(figsize = (12, 8))\n",
    "sns.barplot(x = 'children', y = 'charges', data = data)\n",
    "\n",
    "plt.title('children vs charges')"
   ]
  },
  {
   "cell_type": "code",
   "execution_count": 16,
   "id": "d3e02012",
   "metadata": {},
   "outputs": [
    {
     "data": {
      "text/plain": [
       "Text(0.5, 1.0, 'region vs charges')"
      ]
     },
     "execution_count": 16,
     "metadata": {},
     "output_type": "execute_result"
    },
    {
     "data": {
      "image/png": "[encoded data removed]",
      "text/plain": [
       "<Figure size 864x576 with 1 Axes>"
      ]
     },
     "metadata": {
      "needs_background": "light"
     },
     "output_type": "display_data"
    }
   ],
   "source": [
    "# region vs charges\n",
    "# From the graph we can see that the region actually does not play any role in determining the insurance charges\n",
    "\n",
    "plt.figure(figsize = (12, 8))\n",
    "sns.barplot(x = 'region', y = 'charges', data = data)\n",
    "\n",
    "plt.title('region vs charges')"
   ]
  },
  {
   "cell_type": "code",
   "execution_count": 17,
   "id": "2d985b46",
   "metadata": {},
   "outputs": [
    {
     "data": {
      "text/plain": [
       "Text(0.5, 1.0, 'smoker vs charges')"
      ]
     },
     "execution_count": 17,
     "metadata": {},
     "output_type": "execute_result"
    },
    {
     "data": {
      "image/png": "[encoded data removed]",
      "text/plain": [
       "<Figure size 432x432 with 1 Axes>"
      ]
     },
     "metadata": {
      "needs_background": "light"
     },
     "output_type": "display_data"
    }
   ],
   "source": [
    "# smoker vs charges\n",
    "# from the graph below, it is visible that smokers have more insurance charges than the non smokers\n",
    "\n",
    "plt.figure(figsize = (6, 6))\n",
    "sns.barplot(x = 'smoker', y = 'charges', data = data)\n",
    "\n",
    "plt.title('smoker vs charges')"
   ]
  },
  {
   "cell_type": "code",
   "execution_count": 44,
   "id": "c5375b89",
   "metadata": {},
   "outputs": [
    {
     "data": {
      "text/plain": [
       "<AxesSubplot:>"
      ]
     },
     "execution_count": 44,
     "metadata": {},
     "output_type": "execute_result"
    },
    {
     "data": {
      "image/png": "[encoded data removed]",
      "text/plain": [
       "<Figure size 720x720 with 2 Axes>"
      ]
     },
     "metadata": {
      "needs_background": "light"
     },
     "output_type": "display_data"
    }
   ],
   "source": [
    "# plotting the correlation plot for the dataset\n",
    "\n",
    "f, ax = plt.subplots(figsize = (10, 10))\n",
    "\n",
    "corr = data.corr()\n",
    "sns.heatmap(corr, mask = np.zeros_like(corr, dtype = bool), \n",
    "            cmap = sns.diverging_palette(50, 10, as_cmap = True), square = True, ax = ax)\n"
   ]
  },
  {
   "cell_type": "code",
   "execution_count": 20,
   "id": "9ac2f674",
   "metadata": {},
   "outputs": [
    {
     "name": "stdout",
     "output_type": "stream",
     "text": [
      "(1338, 6)\n"
     ]
    },
    {
     "data": {
      "text/plain": [
       "Index(['age', 'sex', 'bmi', 'children', 'smoker', 'charges'], dtype='object')"
      ]
     },
     "execution_count": 20,
     "metadata": {},
     "output_type": "execute_result"
    }
   ],
   "source": [
    "# removing unnecassary columns from the dataset\n",
    "\n",
    "data = data.drop('region', axis = 1)\n",
    "\n",
    "print(data.shape)\n",
    "\n",
    "data.columns"
   ]
  },
  {
   "cell_type": "code",
   "execution_count": 22,
   "id": "89f43f0e",
   "metadata": {},
   "outputs": [],
   "source": [
    "# label encoding for sex and smoker\n",
    "\n",
    "# importing label encoder\n",
    "from sklearn.preprocessing import LabelEncoder\n",
    "\n",
    "# creating a label encoder\n",
    "le = LabelEncoder()\n",
    "\n",
    "\n",
    "# label encoding for sex\n",
    "# 0 for females and 1 for males\n",
    "data['sex'] = le.fit_transform(data['sex'])\n",
    "\n",
    "# label encoding for smoker\n",
    "# 0 for smokers and 1 for non smokers\n",
    "data['smoker'] = le.fit_transform(data['smoker'])"
   ]
  },
  {
   "cell_type": "code",
   "execution_count": 23,
   "id": "e8550419",
   "metadata": {},
   "outputs": [
    {
     "data": {
      "text/plain": [
       "1    676\n",
       "0    662\n",
       "Name: sex, dtype: int64"
      ]
     },
     "execution_count": 23,
     "metadata": {},
     "output_type": "execute_result"
    }
   ],
   "source": [
    "data['sex'].value_counts()"
   ]
  },
  {
   "cell_type": "code",
   "execution_count": 24,
   "id": "21e781f0",
   "metadata": {},
   "outputs": [
    {
     "data": {
      "text/plain": [
       "0    1064\n",
       "1     274\n",
       "Name: smoker, dtype: int64"
      ]
     },
     "execution_count": 24,
     "metadata": {},
     "output_type": "execute_result"
    }
   ],
   "source": [
    "data['smoker'].value_counts()"
   ]
  },
  {
   "cell_type": "code",
   "execution_count": 25,
   "id": "50f28136",
   "metadata": {},
   "outputs": [
    {
     "name": "stdout",
     "output_type": "stream",
     "text": [
      "(1338, 5)\n",
      "(1338,)\n"
     ]
    }
   ],
   "source": [
    "# splitting the dependent and independent variable\n",
    "\n",
    "x = data.iloc[:,:5]\n",
    "y = data.iloc[:,5]\n",
    "\n",
    "print(x.shape)\n",
    "print(y.shape)"
   ]
  },
  {
   "cell_type": "code",
   "execution_count": 32,
   "id": "4c7d0a4d",
   "metadata": {},
   "outputs": [
    {
     "name": "stdout",
     "output_type": "stream",
     "text": [
      "(1070, 5)\n",
      "(268, 5)\n",
      "(1070,)\n",
      "(268,)\n"
     ]
    }
   ],
   "source": [
    "# splitting the dataset into training and testing sets\n",
    "\n",
    "from sklearn.model_selection import train_test_split\n",
    "\n",
    "x_train, x_test, y_train, y_test = train_test_split(x, y, test_size = 0.2, random_state = 30)\n",
    "\n",
    "print(x_train.shape)\n",
    "print(x_test.shape)\n",
    "print(y_train.shape)\n",
    "print(y_test.shape)\n"
   ]
  },
  {
   "cell_type": "code",
   "execution_count": 33,
   "id": "178be803",
   "metadata": {},
   "outputs": [],
   "source": [
    "# standard scaling\n",
    "\n",
    "from sklearn.preprocessing import StandardScaler\n",
    "\n",
    "# creating a standard scaler\n",
    "sc = StandardScaler()\n",
    "\n",
    "# feeding independents sets into the standard scaler\n",
    "x_train = sc.fit_transform(x_train)\n",
    "x_test = sc.fit_transform(x_test)"
   ]
  },
  {
   "cell_type": "code",
   "execution_count": 34,
   "id": "1bbed7e8",
   "metadata": {},
   "outputs": [
    {
     "name": "stdout",
     "output_type": "stream",
     "text": [
      "MSE : 37806750.25007653\n",
      "RMSE : 6148.719399198221\n",
      "r2 score : 0.7549043319540902\n"
     ]
    }
   ],
   "source": [
    "from sklearn.linear_model import LinearRegression\n",
    "from sklearn.metrics import r2_score\n",
    "\n",
    "\n",
    "# creating the model\n",
    "model = LinearRegression()\n",
    "\n",
    "# feeding the training data to the model\n",
    "model.fit(x_train, y_train)\n",
    "\n",
    "# predicting the test set results\n",
    "y_pred = model.predict(x_test)\n",
    "\n",
    "# calculating the mean squared error\n",
    "mse = np.mean((y_test - y_pred)**2, axis = None)\n",
    "print(\"MSE :\", mse)\n",
    "\n",
    "# Calculating the root mean squared error\n",
    "rmse = np.sqrt(mse)\n",
    "print(\"RMSE :\", rmse)\n",
    "\n",
    "# Calculating the r2 score\n",
    "r2 = r2_score(y_test, y_pred)\n",
    "print(\"r2 score :\", r2)"
   ]
  },
  {
   "cell_type": "code",
   "execution_count": 35,
   "id": "dd1f4721",
   "metadata": {},
   "outputs": [
    {
     "data": {
      "text/plain": [
       "338    41919.09700\n",
       "620     3659.34600\n",
       "965     4746.34400\n",
       "128    32734.18630\n",
       "329     9144.56500\n",
       "          ...     \n",
       "580    12913.99240\n",
       "786    12741.16745\n",
       "321    24671.66334\n",
       "903     8125.78450\n",
       "613     6753.03800\n",
       "Name: charges, Length: 268, dtype: float64"
      ]
     },
     "execution_count": 35,
     "metadata": {},
     "output_type": "execute_result"
    }
   ],
   "source": [
    "y_test"
   ]
  },
  {
   "cell_type": "code",
   "execution_count": 36,
   "id": "a4808e96",
   "metadata": {},
   "outputs": [
    {
     "data": {
      "text/plain": [
       "array([34463.03582081,  5351.63285316,  5380.9763682 , 25960.03740848,\n",
       "       12496.7519736 ,  6408.63819349,  4081.62037308,  9300.34454944,\n",
       "       32957.30705757, 10937.63104598,  7519.13584334,  9726.30820152,\n",
       "       34438.32925237, 11046.23596617,   819.90626006, 35368.51634447,\n",
       "       11430.73775682,  8747.50405981, 28520.23066838, 10780.77269818,\n",
       "         885.55261833,  8140.91449068,  7686.87521254, 10734.04414171,\n",
       "       32605.85490348, 38733.33147903, 14385.6266007 ,  2947.77854767,\n",
       "       10456.87417122, 14224.24201886,  1675.51537561, 30193.11285619,\n",
       "         944.28091937, 14459.05536274, 12261.67368565,  8411.64973742,\n",
       "        1863.86250159,  6487.85043844,   186.61387983,  8192.76868362,\n",
       "        6366.87004436, 33513.53920691,  2007.49195393, 13551.24985198,\n",
       "       10145.95016308, 29556.16908321,  4878.71697149,  2536.59789849,\n",
       "        2321.4068302 ,  4974.23941116, 10987.31701618, 12416.97110239,\n",
       "       11958.11247547,   878.6345611 , 10867.31696491,  7014.47673418,\n",
       "       30770.43624113,  3085.98932145, 12488.52222358,  4450.51876345,\n",
       "       14678.35341681, 10623.53897858, 10948.69439689,  7374.3905582 ,\n",
       "        -978.28401768,  7629.31479487,  9810.98011112,  1149.77856134,\n",
       "        2548.43516479, 14512.29061742, 10501.54007914,  1841.39577283,\n",
       "        -224.99158618,  9265.54108489, 15755.42309527, -1149.84543201,\n",
       "       12147.72995061,  9330.21802531, 30356.77333761,  3653.33962314,\n",
       "         545.20515877, 10684.17012809,  9022.73780012, 30272.28911391,\n",
       "         672.42427126, 16353.28226251,  9013.53855958, 16932.14101336,\n",
       "        8763.20999857, 10702.14625251, 13652.63310542, 13267.91285269,\n",
       "       26057.54552337, 10462.48053567, 36423.84250946,  5145.79821997,\n",
       "        9532.35471109,   926.07280238,  6635.18312192, 34906.78798409,\n",
       "       34158.76753135,  8214.44050747,  9411.37431701,  7688.53439131,\n",
       "       32529.66951388, 25511.65654536,  6777.39016891, 35454.16845154,\n",
       "       33219.62747392,  1609.23659071,  9998.79727626,  6353.29894664,\n",
       "         320.81484993, 27468.57195946,  5412.16153686,  3715.05350858,\n",
       "       12262.46070132,  9555.31534078,  9525.43925938, 14595.51230853,\n",
       "        3855.21657588, 12023.31930406, 35841.13122215, 13831.8140877 ,\n",
       "       29096.40483881, 10532.1206343 , 13508.47897596,  8307.15708673,\n",
       "       30641.07975475, 11799.75474899, 10913.21723476,  5051.51282042,\n",
       "       33133.81423905, 26496.77934186, 11907.79372111,  2425.45213464,\n",
       "       40073.30105238, 24746.02998359, 11451.66087289,  6106.9080695 ,\n",
       "       12198.53478933,  9957.56176616,  3122.99924398, 36902.66308138,\n",
       "        7459.50720854, 10429.20194228,  5980.51463811,  3054.09411045,\n",
       "        9315.71342431, 32270.66906763, 15567.01745264,  6190.19131299,\n",
       "       10564.69475393,  5912.3169414 ,  8956.52809931,  7866.35712614,\n",
       "        4482.86660442, 12337.22896928, 17313.76229093,  4826.20493211,\n",
       "       10269.27278997, 30934.25920084, 13836.30990308,  9759.65327348,\n",
       "       14733.9054845 , 15013.31001096, 33913.26345748,  7685.12399007,\n",
       "        6632.4958633 ,  1590.05645034,  7995.5233211 , 11485.27653018,\n",
       "        5580.34296861,  4338.74057296, 32717.41202635,  6957.46627391,\n",
       "        2839.55977889,  9807.06898534, 14354.56271204, 29550.1352964 ,\n",
       "       10182.87486551, 13822.99846572,  1005.51668237,    72.32794253,\n",
       "       38413.17781168, 27229.70114753, 26637.25516294,  6556.18926638,\n",
       "       30858.07120572, 14228.50887739,  -840.07324389,  8911.75183635,\n",
       "       13619.1000627 , 11509.23467571,  1418.8785819 , 12148.43710257,\n",
       "       15333.31465784, 30788.34335414, 29654.44554492,  5250.65574769,\n",
       "        9583.20074809,  2499.54931054,  7215.57463317,  6645.54235659,\n",
       "       27220.16759396,   814.5900473 ,  4515.0133017 , 36332.3988849 ,\n",
       "       34805.58973835, 36453.53611601,  6103.58021016,  6986.1079207 ,\n",
       "       38454.74734995,  6306.68110274,  5287.9666742 , 37881.90632257,\n",
       "        5323.26143416,  2394.72227414, 16398.81765532, 27936.09993877,\n",
       "        9817.33743134, 37684.21361379, 11562.07174432,  1278.94736183,\n",
       "        2650.87305617,  9439.79236335,  8875.89112834,  6930.15238323,\n",
       "        7026.85741912,  2642.02137428,  9024.07462785, 10720.6914334 ,\n",
       "        9706.00665978, 12744.94323341,  9489.66377145, 31193.25443604,\n",
       "       29453.69520459, 11057.63638097,  6926.14257954, 27519.87626768,\n",
       "       16100.18911202, 14502.11378493,  8747.28306487,  5392.53926128,\n",
       "       15805.26112166, 10823.34510868,  1127.65410752,  3976.08097368,\n",
       "        4994.98837183, 14941.72586559,  4270.84084452, 10243.5168673 ,\n",
       "       13430.53447465, 36555.13522602, 24709.58072542,  3897.41325707,\n",
       "       11426.28321239, 10864.09981814, 10704.65146648, 26290.07775662,\n",
       "        9177.5825869 , 15075.22243459,  5366.66213128, 11346.31472796,\n",
       "       14730.95067629,  5355.25346971, 11734.22431433,  3840.88359743])"
      ]
     },
     "execution_count": 36,
     "metadata": {},
     "output_type": "execute_result"
    }
   ],
   "source": [
    "y_pred"
   ]
  },
  {
   "cell_type": "code",
   "execution_count": 37,
   "id": "3d18b2fd",
   "metadata": {},
   "outputs": [
    {
     "name": "stdout",
     "output_type": "stream",
     "text": [
      "MSE : 174595630.81989565\n",
      "RMSE : 13213.46399775228\n",
      "r2 score : -0.13187810353027452\n"
     ]
    }
   ],
   "source": [
    "from sklearn.svm import SVR\n",
    "\n",
    "# creating the model\n",
    "model = SVR()\n",
    "\n",
    "# feeding the training data to the model\n",
    "model.fit(x_train, y_train)\n",
    "\n",
    "# predicting the test set results\n",
    "y_pred = model.predict(x_test)\n",
    "\n",
    "# calculating the mean squared error\n",
    "mse = np.mean((y_test - y_pred)**2, axis = None)\n",
    "print(\"MSE :\", mse)\n",
    "\n",
    "# Calculating the root mean squared error\n",
    "rmse = np.sqrt(mse)\n",
    "print(\"RMSE :\", rmse)\n",
    "\n",
    "# Calculating the r2 score\n",
    "r2 = r2_score(y_test, y_pred)\n",
    "print(\"r2 score :\", r2)"
   ]
  },
  {
   "cell_type": "code",
   "execution_count": 38,
   "id": "074bf751",
   "metadata": {},
   "outputs": [
    {
     "name": "stdout",
     "output_type": "stream",
     "text": [
      "MSE : 21511136.712738026\n",
      "RMSE : 4638.009994894149\n",
      "r2 score : 0.8605464265465463\n"
     ]
    }
   ],
   "source": [
    "from sklearn.ensemble import RandomForestRegressor\n",
    "\n",
    "# creating the model\n",
    "model = RandomForestRegressor(n_estimators = 40, max_depth = 4, n_jobs = -1)\n",
    "\n",
    "# feeding the training data to the model\n",
    "model.fit(x_train, y_train)\n",
    "\n",
    "# predicting the test set results\n",
    "y_pred = model.predict(x_test)\n",
    "\n",
    "# calculating the mean squared error\n",
    "mse = np.mean((y_test - y_pred)**2, axis = None)\n",
    "print(\"MSE :\", mse)\n",
    "\n",
    "# Calculating the root mean squared error\n",
    "rmse = np.sqrt(mse)\n",
    "print(\"RMSE :\", rmse)\n",
    "\n",
    "# Calculating the r2 score\n",
    "r2 = r2_score(y_test, y_pred)\n",
    "print(\"r2 score :\", r2)"
   ]
  },
  {
   "cell_type": "code",
   "execution_count": 39,
   "id": "c3447c3d",
   "metadata": {},
   "outputs": [
    {
     "name": "stdout",
     "output_type": "stream",
     "text": [
      "[44856.31313392  5475.82208971  5958.94852042 16454.21967513\n",
      " 10447.50197826  5613.91155641  2721.94329264 10838.00150147\n",
      " 44631.53272998 13086.371788    6831.11939538 10153.63116396\n",
      " 45027.02440746 12967.84331341  2721.94329264 24777.03403242\n",
      " 10085.23930006  8984.49929538 17941.51367495  9892.9233862\n",
      "  2721.94329264  6416.9025591  10455.34745395  7837.75873959\n",
      " 25413.30334687 45635.72383364 13902.68861089  5123.26802021\n",
      "  7194.21155201 10892.37082274  5422.16960607 37658.70495852\n",
      "  2800.31197128 10547.32385354 13086.371788    6416.9025591\n",
      "  2721.94329264  6782.13248002  2721.94329264  6338.39063527\n",
      "  6368.33614654 23658.71033992  4522.06508072 13086.371788\n",
      "  6835.7106537  38840.32676458  6238.14374382  2721.94329264\n",
      "  3594.45001911  6696.48769002  7383.55802972  9927.51538191\n",
      " 13086.371788    2721.94329264  7194.21155201  7522.70948907\n",
      " 20064.16739637  4983.20260573 13086.371788    6323.86365437\n",
      " 13235.88850195  6508.75757572 11139.93073174  4945.44786131\n",
      "  2721.94329264  5475.82208971 10627.2223578   5422.16960607\n",
      "  6098.09997978 13436.29232785 14373.09552273  2721.94329264\n",
      "  3426.32437825  9771.73993171 15622.01262728  3516.08134046\n",
      "  9287.26201868  9883.16440177 20297.4674142   4483.39638117\n",
      "  2721.94329264  9033.23817949  6495.55141123 19174.36779749\n",
      "  2721.94329264 14645.07829043  7023.84461156 14924.70384621\n",
      " 10370.7183406   7245.15163443 14652.72107851 13137.85301592\n",
      " 36580.2539394   7383.55802972 26765.89651038  4561.91195299\n",
      " 10607.74334911  6834.88076386  6256.36653704 45635.72383364\n",
      " 44643.98546465 13086.371788    7332.80724933  5244.34944717\n",
      " 39011.18533028 17757.81270206  6455.57125865 44856.31313392\n",
      " 26487.57309375  2800.31197128 13219.72836722  7201.66477046\n",
      "  6924.63772608 18441.45851832  4561.91195299  5791.73171531\n",
      " 13086.371788    6538.2825842   8484.25751336  9974.02782996\n",
      "  3426.32437825  7454.36022617 25985.06177969 13628.34065251\n",
      " 19174.36779749 13847.21968173 14373.09552273  7383.55802972\n",
      " 23214.18589325 12885.96796211 10922.63061482  4805.38244683\n",
      " 39522.41422721 36414.19934414 13086.371788    2721.94329264\n",
      " 45897.42850398 18686.47770247 13820.81325959  6187.2514919\n",
      " 12967.84331341 10922.63061482  5653.64224861 45635.72383364\n",
      "  6698.67273136 10838.00150147  5322.86501898  6388.25195374\n",
      "  7383.55802972 25665.49670249 13235.88850195  9413.08211595\n",
      "  6616.93143633  7746.63368428  6792.45069583  6810.68446143\n",
      "  2721.94329264 13086.371788   13960.4607751   2721.94329264\n",
      "  9904.41093528 38329.09786765 10425.08766186  9715.01134622\n",
      " 10788.49287567 13628.34065251 41363.28267489  6217.6978375\n",
      "  5613.91155641  4739.73211189  7062.5133111  12885.96796211\n",
      "  6837.82419072  5514.49078926 38674.866264    9093.91397189\n",
      "  2721.94329264  4805.38244683 14373.09552273 20297.4674142\n",
      "  9904.41093528 13235.88850195  2721.94329264  2721.94329264\n",
      " 45635.72383364 37861.67988141 16596.28097782  6199.47504427\n",
      " 38548.98485489 10340.45854852  2721.94329264  5244.34944717\n",
      " 13847.21968173 10983.17700304  2721.94329264 13086.371788\n",
      " 15622.01262728 26147.9439013  37934.70009503  5636.02776448\n",
      "  7072.83152691  2721.94329264  6782.13248002  5694.80119906\n",
      " 37505.9077073   6924.63772608  2800.31197128 45635.72383364\n",
      " 43304.94963511 41363.28267489  6210.43179484  6367.43909993\n",
      " 45897.42850398  9413.08211595  4984.11656085 46095.90207582\n",
      "  4561.91195299  2721.94329264 13688.17738166 16596.28097782\n",
      "  7023.84461156 45970.27482938  7914.29351145  2721.94329264\n",
      "  4983.20260573  7383.55802972  6743.46378048  4805.38244683\n",
      "  7103.17719864  2721.94329264  7192.70571382 12885.96796211\n",
      "  9715.01134622 13086.371788   10570.13627078 25643.81441289\n",
      " 38840.32676458 12885.96796211  6680.4920587  36740.89741888\n",
      " 15002.64161836 15050.23869587 10455.34745395  2721.94329264\n",
      " 15255.68793538 13847.21968173  2721.94329264  2800.31197128\n",
      "  4667.29298013 13436.29232785  6495.26405353 10102.95067556\n",
      " 10999.41425248 26198.55847015 19576.27730135  6834.88076386\n",
      " 11020.81133576 10515.89384216 13086.371788   19576.27730135\n",
      "  6792.45069583 13847.21968173  4844.05114637 13338.25684182\n",
      " 13371.89465583  6454.05605709 10085.23930006  6506.59055929]\n"
     ]
    }
   ],
   "source": [
    "print(y_pred)"
   ]
  },
  {
   "cell_type": "code",
   "execution_count": 40,
   "id": "69cc9282",
   "metadata": {},
   "outputs": [
    {
     "name": "stdout",
     "output_type": "stream",
     "text": [
      "338    41919.09700\n",
      "620     3659.34600\n",
      "965     4746.34400\n",
      "128    32734.18630\n",
      "329     9144.56500\n",
      "          ...     \n",
      "580    12913.99240\n",
      "786    12741.16745\n",
      "321    24671.66334\n",
      "903     8125.78450\n",
      "613     6753.03800\n",
      "Name: charges, Length: 268, dtype: float64\n"
     ]
    }
   ],
   "source": [
    "print(y_test)\n"
   ]
  },
  {
   "cell_type": "code",
   "execution_count": 41,
   "id": "645fb4f1",
   "metadata": {},
   "outputs": [
    {
     "name": "stdout",
     "output_type": "stream",
     "text": [
      "MSE : 41200225.68812585\n",
      "RMSE : 6418.7401947832295\n",
      "r2 score : 0.7329049238064831\n"
     ]
    }
   ],
   "source": [
    "from sklearn.tree import DecisionTreeRegressor\n",
    "\n",
    "# creating the model\n",
    "model = DecisionTreeRegressor()\n",
    "\n",
    "# feeding the training data to the model\n",
    "model.fit(x_train, y_train)\n",
    "\n",
    "# predicting the test set results\n",
    "y_pred = model.predict(x_test)\n",
    "\n",
    "# calculating the mean squared error\n",
    "mse = np.mean((y_test - y_pred)**2, axis = None)\n",
    "print(\"MSE :\", mse)\n",
    "\n",
    "# Calculating the root mean squared error\n",
    "rmse = np.sqrt(mse)\n",
    "print(\"RMSE :\", rmse)\n",
    "\n",
    "# Calculating the r2 score\n",
    "r2 = r2_score(y_test, y_pred)\n",
    "print(\"r2 score :\", r2)"
   ]
  },
  {
   "cell_type": "code",
   "execution_count": null,
   "id": "133f5acb",
   "metadata": {},
   "outputs": [],
   "source": []
  }
 ],
 "metadata": {
  "kernelspec": {
   "display_name": "Python 3 (ipykernel)",
   "language": "python",
   "name": "python3"
  },
  "language_info": {
   "codemirror_mode": {
    "name": "ipython",
    "version": 3
   },
   "file_extension": ".py",
   "mimetype": "text/x-python",
   "name": "python",
   "nbconvert_exporter": "python",
   "pygments_lexer": "ipython3",
   "version": "3.9.7"
  }
 },
 "nbformat": 4,
 "nbformat_minor": 5
}
